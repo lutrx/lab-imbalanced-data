{
 "cells": [
  {
   "cell_type": "markdown",
   "id": "e0bdc482",
   "metadata": {},
   "source": [
    "#### Importing libraries"
   ]
  },
  {
   "cell_type": "code",
   "execution_count": 21,
   "id": "09380a91",
   "metadata": {},
   "outputs": [],
   "source": [
    "import pandas as pd\n",
    "import numpy as np\n",
    "import matplotlib.pyplot as plt\n",
    "import seaborn as sns\n",
    "from sklearn.model_selection import train_test_split\n",
    "from sklearn.linear_model import LogisticRegression\n",
    "from sklearn.preprocessing import StandardScaler\n",
    "from sklearn.metrics import precision_score\n",
    "from sklearn.metrics import recall_score\n",
    "from sklearn.metrics import f1_score\n",
    "from sklearn.utils import resample\n",
    "from imblearn.over_sampling import SMOTE"
   ]
  },
  {
   "cell_type": "markdown",
   "id": "fa837498",
   "metadata": {},
   "source": [
    "#### Reading csv file to notebook"
   ]
  },
  {
   "cell_type": "code",
   "execution_count": 9,
   "id": "0c92d9d9",
   "metadata": {},
   "outputs": [
    {
     "data": {
      "text/html": [
       "<div>\n",
       "<style scoped>\n",
       "    .dataframe tbody tr th:only-of-type {\n",
       "        vertical-align: middle;\n",
       "    }\n",
       "\n",
       "    .dataframe tbody tr th {\n",
       "        vertical-align: top;\n",
       "    }\n",
       "\n",
       "    .dataframe thead th {\n",
       "        text-align: right;\n",
       "    }\n",
       "</style>\n",
       "<table border=\"1\" class=\"dataframe\">\n",
       "  <thead>\n",
       "    <tr style=\"text-align: right;\">\n",
       "      <th></th>\n",
       "      <th>customerID</th>\n",
       "      <th>gender</th>\n",
       "      <th>SeniorCitizen</th>\n",
       "      <th>Partner</th>\n",
       "      <th>Dependents</th>\n",
       "      <th>tenure</th>\n",
       "      <th>PhoneService</th>\n",
       "      <th>MultipleLines</th>\n",
       "      <th>InternetService</th>\n",
       "      <th>OnlineSecurity</th>\n",
       "      <th>...</th>\n",
       "      <th>DeviceProtection</th>\n",
       "      <th>TechSupport</th>\n",
       "      <th>StreamingTV</th>\n",
       "      <th>StreamingMovies</th>\n",
       "      <th>Contract</th>\n",
       "      <th>PaperlessBilling</th>\n",
       "      <th>PaymentMethod</th>\n",
       "      <th>MonthlyCharges</th>\n",
       "      <th>TotalCharges</th>\n",
       "      <th>Churn</th>\n",
       "    </tr>\n",
       "  </thead>\n",
       "  <tbody>\n",
       "    <tr>\n",
       "      <th>0</th>\n",
       "      <td>7590-VHVEG</td>\n",
       "      <td>Female</td>\n",
       "      <td>0</td>\n",
       "      <td>Yes</td>\n",
       "      <td>No</td>\n",
       "      <td>1</td>\n",
       "      <td>No</td>\n",
       "      <td>No phone service</td>\n",
       "      <td>DSL</td>\n",
       "      <td>No</td>\n",
       "      <td>...</td>\n",
       "      <td>No</td>\n",
       "      <td>No</td>\n",
       "      <td>No</td>\n",
       "      <td>No</td>\n",
       "      <td>Month-to-month</td>\n",
       "      <td>Yes</td>\n",
       "      <td>Electronic check</td>\n",
       "      <td>29.85</td>\n",
       "      <td>29.85</td>\n",
       "      <td>No</td>\n",
       "    </tr>\n",
       "    <tr>\n",
       "      <th>1</th>\n",
       "      <td>5575-GNVDE</td>\n",
       "      <td>Male</td>\n",
       "      <td>0</td>\n",
       "      <td>No</td>\n",
       "      <td>No</td>\n",
       "      <td>34</td>\n",
       "      <td>Yes</td>\n",
       "      <td>No</td>\n",
       "      <td>DSL</td>\n",
       "      <td>Yes</td>\n",
       "      <td>...</td>\n",
       "      <td>Yes</td>\n",
       "      <td>No</td>\n",
       "      <td>No</td>\n",
       "      <td>No</td>\n",
       "      <td>One year</td>\n",
       "      <td>No</td>\n",
       "      <td>Mailed check</td>\n",
       "      <td>56.95</td>\n",
       "      <td>1889.5</td>\n",
       "      <td>No</td>\n",
       "    </tr>\n",
       "    <tr>\n",
       "      <th>2</th>\n",
       "      <td>3668-QPYBK</td>\n",
       "      <td>Male</td>\n",
       "      <td>0</td>\n",
       "      <td>No</td>\n",
       "      <td>No</td>\n",
       "      <td>2</td>\n",
       "      <td>Yes</td>\n",
       "      <td>No</td>\n",
       "      <td>DSL</td>\n",
       "      <td>Yes</td>\n",
       "      <td>...</td>\n",
       "      <td>No</td>\n",
       "      <td>No</td>\n",
       "      <td>No</td>\n",
       "      <td>No</td>\n",
       "      <td>Month-to-month</td>\n",
       "      <td>Yes</td>\n",
       "      <td>Mailed check</td>\n",
       "      <td>53.85</td>\n",
       "      <td>108.15</td>\n",
       "      <td>Yes</td>\n",
       "    </tr>\n",
       "    <tr>\n",
       "      <th>3</th>\n",
       "      <td>7795-CFOCW</td>\n",
       "      <td>Male</td>\n",
       "      <td>0</td>\n",
       "      <td>No</td>\n",
       "      <td>No</td>\n",
       "      <td>45</td>\n",
       "      <td>No</td>\n",
       "      <td>No phone service</td>\n",
       "      <td>DSL</td>\n",
       "      <td>Yes</td>\n",
       "      <td>...</td>\n",
       "      <td>Yes</td>\n",
       "      <td>Yes</td>\n",
       "      <td>No</td>\n",
       "      <td>No</td>\n",
       "      <td>One year</td>\n",
       "      <td>No</td>\n",
       "      <td>Bank transfer (automatic)</td>\n",
       "      <td>42.30</td>\n",
       "      <td>1840.75</td>\n",
       "      <td>No</td>\n",
       "    </tr>\n",
       "    <tr>\n",
       "      <th>4</th>\n",
       "      <td>9237-HQITU</td>\n",
       "      <td>Female</td>\n",
       "      <td>0</td>\n",
       "      <td>No</td>\n",
       "      <td>No</td>\n",
       "      <td>2</td>\n",
       "      <td>Yes</td>\n",
       "      <td>No</td>\n",
       "      <td>Fiber optic</td>\n",
       "      <td>No</td>\n",
       "      <td>...</td>\n",
       "      <td>No</td>\n",
       "      <td>No</td>\n",
       "      <td>No</td>\n",
       "      <td>No</td>\n",
       "      <td>Month-to-month</td>\n",
       "      <td>Yes</td>\n",
       "      <td>Electronic check</td>\n",
       "      <td>70.70</td>\n",
       "      <td>151.65</td>\n",
       "      <td>Yes</td>\n",
       "    </tr>\n",
       "  </tbody>\n",
       "</table>\n",
       "<p>5 rows × 21 columns</p>\n",
       "</div>"
      ],
      "text/plain": [
       "   customerID  gender  SeniorCitizen Partner Dependents  tenure PhoneService  \\\n",
       "0  7590-VHVEG  Female              0     Yes         No       1           No   \n",
       "1  5575-GNVDE    Male              0      No         No      34          Yes   \n",
       "2  3668-QPYBK    Male              0      No         No       2          Yes   \n",
       "3  7795-CFOCW    Male              0      No         No      45           No   \n",
       "4  9237-HQITU  Female              0      No         No       2          Yes   \n",
       "\n",
       "      MultipleLines InternetService OnlineSecurity  ... DeviceProtection  \\\n",
       "0  No phone service             DSL             No  ...               No   \n",
       "1                No             DSL            Yes  ...              Yes   \n",
       "2                No             DSL            Yes  ...               No   \n",
       "3  No phone service             DSL            Yes  ...              Yes   \n",
       "4                No     Fiber optic             No  ...               No   \n",
       "\n",
       "  TechSupport StreamingTV StreamingMovies        Contract PaperlessBilling  \\\n",
       "0          No          No              No  Month-to-month              Yes   \n",
       "1          No          No              No        One year               No   \n",
       "2          No          No              No  Month-to-month              Yes   \n",
       "3         Yes          No              No        One year               No   \n",
       "4          No          No              No  Month-to-month              Yes   \n",
       "\n",
       "               PaymentMethod MonthlyCharges  TotalCharges Churn  \n",
       "0           Electronic check          29.85         29.85    No  \n",
       "1               Mailed check          56.95        1889.5    No  \n",
       "2               Mailed check          53.85        108.15   Yes  \n",
       "3  Bank transfer (automatic)          42.30       1840.75    No  \n",
       "4           Electronic check          70.70        151.65   Yes  \n",
       "\n",
       "[5 rows x 21 columns]"
      ]
     },
     "execution_count": 9,
     "metadata": {},
     "output_type": "execute_result"
    }
   ],
   "source": [
    "#Read the csv file\n",
    "data = pd.read_csv('./files_for_lab/customer_churn.csv')\n",
    "data.head()"
   ]
  },
  {
   "cell_type": "markdown",
   "id": "22db8364",
   "metadata": {},
   "source": [
    "### Split the Dataset into X ('tenure', 'SeniorCitizen', 'MonthlyCharges') and y ('Churn')"
   ]
  },
  {
   "cell_type": "code",
   "execution_count": 15,
   "id": "4b112db2",
   "metadata": {},
   "outputs": [
    {
     "data": {
      "text/plain": [
       "0        No\n",
       "1        No\n",
       "2       Yes\n",
       "3        No\n",
       "4       Yes\n",
       "       ... \n",
       "7038     No\n",
       "7039     No\n",
       "7040     No\n",
       "7041    Yes\n",
       "7042     No\n",
       "Name: Churn, Length: 7043, dtype: object"
      ]
     },
     "execution_count": 15,
     "metadata": {},
     "output_type": "execute_result"
    }
   ],
   "source": [
    "# X/y split\n",
    "X = data[['SeniorCitizen', 'tenure', 'MonthlyCharges']]\n",
    "y = data['Churn']"
   ]
  },
  {
   "cell_type": "code",
   "execution_count": 17,
   "id": "eb107b34",
   "metadata": {},
   "outputs": [
    {
     "data": {
      "text/html": [
       "<div>\n",
       "<style scoped>\n",
       "    .dataframe tbody tr th:only-of-type {\n",
       "        vertical-align: middle;\n",
       "    }\n",
       "\n",
       "    .dataframe tbody tr th {\n",
       "        vertical-align: top;\n",
       "    }\n",
       "\n",
       "    .dataframe thead th {\n",
       "        text-align: right;\n",
       "    }\n",
       "</style>\n",
       "<table border=\"1\" class=\"dataframe\">\n",
       "  <thead>\n",
       "    <tr style=\"text-align: right;\">\n",
       "      <th></th>\n",
       "      <th>SeniorCitizen</th>\n",
       "      <th>tenure</th>\n",
       "      <th>MonthlyCharges</th>\n",
       "    </tr>\n",
       "  </thead>\n",
       "  <tbody>\n",
       "    <tr>\n",
       "      <th>0</th>\n",
       "      <td>0</td>\n",
       "      <td>1</td>\n",
       "      <td>29.85</td>\n",
       "    </tr>\n",
       "    <tr>\n",
       "      <th>1</th>\n",
       "      <td>0</td>\n",
       "      <td>34</td>\n",
       "      <td>56.95</td>\n",
       "    </tr>\n",
       "    <tr>\n",
       "      <th>2</th>\n",
       "      <td>0</td>\n",
       "      <td>2</td>\n",
       "      <td>53.85</td>\n",
       "    </tr>\n",
       "    <tr>\n",
       "      <th>3</th>\n",
       "      <td>0</td>\n",
       "      <td>45</td>\n",
       "      <td>42.30</td>\n",
       "    </tr>\n",
       "    <tr>\n",
       "      <th>4</th>\n",
       "      <td>0</td>\n",
       "      <td>2</td>\n",
       "      <td>70.70</td>\n",
       "    </tr>\n",
       "    <tr>\n",
       "      <th>...</th>\n",
       "      <td>...</td>\n",
       "      <td>...</td>\n",
       "      <td>...</td>\n",
       "    </tr>\n",
       "    <tr>\n",
       "      <th>7038</th>\n",
       "      <td>0</td>\n",
       "      <td>24</td>\n",
       "      <td>84.80</td>\n",
       "    </tr>\n",
       "    <tr>\n",
       "      <th>7039</th>\n",
       "      <td>0</td>\n",
       "      <td>72</td>\n",
       "      <td>103.20</td>\n",
       "    </tr>\n",
       "    <tr>\n",
       "      <th>7040</th>\n",
       "      <td>0</td>\n",
       "      <td>11</td>\n",
       "      <td>29.60</td>\n",
       "    </tr>\n",
       "    <tr>\n",
       "      <th>7041</th>\n",
       "      <td>1</td>\n",
       "      <td>4</td>\n",
       "      <td>74.40</td>\n",
       "    </tr>\n",
       "    <tr>\n",
       "      <th>7042</th>\n",
       "      <td>0</td>\n",
       "      <td>66</td>\n",
       "      <td>105.65</td>\n",
       "    </tr>\n",
       "  </tbody>\n",
       "</table>\n",
       "<p>7043 rows × 3 columns</p>\n",
       "</div>"
      ],
      "text/plain": [
       "      SeniorCitizen  tenure  MonthlyCharges\n",
       "0                 0       1           29.85\n",
       "1                 0      34           56.95\n",
       "2                 0       2           53.85\n",
       "3                 0      45           42.30\n",
       "4                 0       2           70.70\n",
       "...             ...     ...             ...\n",
       "7038              0      24           84.80\n",
       "7039              0      72          103.20\n",
       "7040              0      11           29.60\n",
       "7041              1       4           74.40\n",
       "7042              0      66          105.65\n",
       "\n",
       "[7043 rows x 3 columns]"
      ]
     },
     "execution_count": 17,
     "metadata": {},
     "output_type": "execute_result"
    }
   ],
   "source": [
    "# Look at X to explore the data\n",
    "X"
   ]
  },
  {
   "cell_type": "code",
   "execution_count": 18,
   "id": "2830a5a9",
   "metadata": {},
   "outputs": [
    {
     "data": {
      "text/plain": [
       "SeniorCitizen     0\n",
       "tenure            0\n",
       "MonthlyCharges    0\n",
       "dtype: int64"
      ]
     },
     "execution_count": 18,
     "metadata": {},
     "output_type": "execute_result"
    }
   ],
   "source": [
    "#Check for NaN values for X\n",
    "X.isna().sum()"
   ]
  },
  {
   "cell_type": "code",
   "execution_count": 19,
   "id": "a7c44d6c",
   "metadata": {},
   "outputs": [
    {
     "data": {
      "image/png": "[encoded data removed]",
      "text/plain": [
       "<Figure size 640x480 with 2 Axes>"
      ]
     },
     "metadata": {},
     "output_type": "display_data"
    }
   ],
   "source": [
    "#Checking for collinearity\n",
    "correlations_matrix = X.corr()\n",
    "sns.heatmap(correlations_matrix, annot=True)\n",
    "plt.show()"
   ]
  },
  {
   "cell_type": "markdown",
   "id": "ab8b3f3b",
   "metadata": {},
   "source": [
    "##### Train Test split"
   ]
  },
  {
   "cell_type": "code",
   "execution_count": 22,
   "id": "832e81ff",
   "metadata": {},
   "outputs": [],
   "source": [
    "# Before standardization takes place, train-test split has to be performed\n",
    "X_train, X_test, y_train, y_test = train_test_split(X, y)"
   ]
  },
  {
   "cell_type": "markdown",
   "id": "827fef9c",
   "metadata": {},
   "source": [
    "##### Standardization of X_train and X_test"
   ]
  },
  {
   "cell_type": "code",
   "execution_count": 23,
   "id": "ac454f60",
   "metadata": {},
   "outputs": [],
   "source": [
    "# all features are numeric, so no need to split into _num and _cat\n",
    "transformer = StandardScaler().fit(X_train)\n",
    "X_train_scaled = pd.DataFrame(transformer.transform(X_train),columns=X.columns)\n",
    "# because this is the only tranformation we apply to the numerics, \n",
    "# we can immediately transform the X_test as well\n",
    "X_test_scaled = pd.DataFrame(transformer.transform(X_test),columns=X.columns)"
   ]
  },
  {
   "cell_type": "code",
   "execution_count": 24,
   "id": "3f16de98",
   "metadata": {},
   "outputs": [
    {
     "data": {
      "text/html": [
       "<div>\n",
       "<style scoped>\n",
       "    .dataframe tbody tr th:only-of-type {\n",
       "        vertical-align: middle;\n",
       "    }\n",
       "\n",
       "    .dataframe tbody tr th {\n",
       "        vertical-align: top;\n",
       "    }\n",
       "\n",
       "    .dataframe thead th {\n",
       "        text-align: right;\n",
       "    }\n",
       "</style>\n",
       "<table border=\"1\" class=\"dataframe\">\n",
       "  <thead>\n",
       "    <tr style=\"text-align: right;\">\n",
       "      <th></th>\n",
       "      <th>SeniorCitizen</th>\n",
       "      <th>tenure</th>\n",
       "      <th>MonthlyCharges</th>\n",
       "    </tr>\n",
       "  </thead>\n",
       "  <tbody>\n",
       "    <tr>\n",
       "      <th>0</th>\n",
       "      <td>-0.448331</td>\n",
       "      <td>-0.425416</td>\n",
       "      <td>-0.358005</td>\n",
       "    </tr>\n",
       "    <tr>\n",
       "      <th>1</th>\n",
       "      <td>-0.448331</td>\n",
       "      <td>0.105289</td>\n",
       "      <td>-1.504190</td>\n",
       "    </tr>\n",
       "    <tr>\n",
       "      <th>2</th>\n",
       "      <td>-0.448331</td>\n",
       "      <td>1.615759</td>\n",
       "      <td>0.175104</td>\n",
       "    </tr>\n",
       "    <tr>\n",
       "      <th>3</th>\n",
       "      <td>-0.448331</td>\n",
       "      <td>-1.201063</td>\n",
       "      <td>-1.519184</td>\n",
       "    </tr>\n",
       "    <tr>\n",
       "      <th>4</th>\n",
       "      <td>-0.448331</td>\n",
       "      <td>-0.711181</td>\n",
       "      <td>-1.504190</td>\n",
       "    </tr>\n",
       "    <tr>\n",
       "      <th>...</th>\n",
       "      <td>...</td>\n",
       "      <td>...</td>\n",
       "      <td>...</td>\n",
       "    </tr>\n",
       "    <tr>\n",
       "      <th>5277</th>\n",
       "      <td>-0.448331</td>\n",
       "      <td>1.574936</td>\n",
       "      <td>0.055155</td>\n",
       "    </tr>\n",
       "    <tr>\n",
       "      <th>5278</th>\n",
       "      <td>-0.448331</td>\n",
       "      <td>-0.956122</td>\n",
       "      <td>0.333371</td>\n",
       "    </tr>\n",
       "    <tr>\n",
       "      <th>5279</th>\n",
       "      <td>-0.448331</td>\n",
       "      <td>-1.282710</td>\n",
       "      <td>-0.316356</td>\n",
       "    </tr>\n",
       "    <tr>\n",
       "      <th>5280</th>\n",
       "      <td>-0.448331</td>\n",
       "      <td>-0.547887</td>\n",
       "      <td>0.651571</td>\n",
       "    </tr>\n",
       "    <tr>\n",
       "      <th>5281</th>\n",
       "      <td>-0.448331</td>\n",
       "      <td>1.166701</td>\n",
       "      <td>0.656569</td>\n",
       "    </tr>\n",
       "  </tbody>\n",
       "</table>\n",
       "<p>5282 rows × 3 columns</p>\n",
       "</div>"
      ],
      "text/plain": [
       "      SeniorCitizen    tenure  MonthlyCharges\n",
       "0         -0.448331 -0.425416       -0.358005\n",
       "1         -0.448331  0.105289       -1.504190\n",
       "2         -0.448331  1.615759        0.175104\n",
       "3         -0.448331 -1.201063       -1.519184\n",
       "4         -0.448331 -0.711181       -1.504190\n",
       "...             ...       ...             ...\n",
       "5277      -0.448331  1.574936        0.055155\n",
       "5278      -0.448331 -0.956122        0.333371\n",
       "5279      -0.448331 -1.282710       -0.316356\n",
       "5280      -0.448331 -0.547887        0.651571\n",
       "5281      -0.448331  1.166701        0.656569\n",
       "\n",
       "[5282 rows x 3 columns]"
      ]
     },
     "metadata": {},
     "output_type": "display_data"
    },
    {
     "data": {
      "text/html": [
       "<div>\n",
       "<style scoped>\n",
       "    .dataframe tbody tr th:only-of-type {\n",
       "        vertical-align: middle;\n",
       "    }\n",
       "\n",
       "    .dataframe tbody tr th {\n",
       "        vertical-align: top;\n",
       "    }\n",
       "\n",
       "    .dataframe thead th {\n",
       "        text-align: right;\n",
       "    }\n",
       "</style>\n",
       "<table border=\"1\" class=\"dataframe\">\n",
       "  <thead>\n",
       "    <tr style=\"text-align: right;\">\n",
       "      <th></th>\n",
       "      <th>SeniorCitizen</th>\n",
       "      <th>tenure</th>\n",
       "      <th>MonthlyCharges</th>\n",
       "    </tr>\n",
       "  </thead>\n",
       "  <tbody>\n",
       "    <tr>\n",
       "      <th>0</th>\n",
       "      <td>-0.448331</td>\n",
       "      <td>1.615759</td>\n",
       "      <td>0.649905</td>\n",
       "    </tr>\n",
       "    <tr>\n",
       "      <th>1</th>\n",
       "      <td>-0.448331</td>\n",
       "      <td>1.534112</td>\n",
       "      <td>-1.327597</td>\n",
       "    </tr>\n",
       "    <tr>\n",
       "      <th>2</th>\n",
       "      <td>2.230496</td>\n",
       "      <td>0.717642</td>\n",
       "      <td>-1.332595</td>\n",
       "    </tr>\n",
       "    <tr>\n",
       "      <th>3</th>\n",
       "      <td>-0.448331</td>\n",
       "      <td>-1.037769</td>\n",
       "      <td>-1.505856</td>\n",
       "    </tr>\n",
       "    <tr>\n",
       "      <th>4</th>\n",
       "      <td>-0.448331</td>\n",
       "      <td>1.574936</td>\n",
       "      <td>-0.038139</td>\n",
       "    </tr>\n",
       "    <tr>\n",
       "      <th>...</th>\n",
       "      <td>...</td>\n",
       "      <td>...</td>\n",
       "      <td>...</td>\n",
       "    </tr>\n",
       "    <tr>\n",
       "      <th>1756</th>\n",
       "      <td>2.230496</td>\n",
       "      <td>-1.282710</td>\n",
       "      <td>0.306716</td>\n",
       "    </tr>\n",
       "    <tr>\n",
       "      <th>1757</th>\n",
       "      <td>-0.448331</td>\n",
       "      <td>1.574936</td>\n",
       "      <td>0.721541</td>\n",
       "    </tr>\n",
       "    <tr>\n",
       "      <th>1758</th>\n",
       "      <td>2.230496</td>\n",
       "      <td>-0.956122</td>\n",
       "      <td>0.639909</td>\n",
       "    </tr>\n",
       "    <tr>\n",
       "      <th>1759</th>\n",
       "      <td>-0.448331</td>\n",
       "      <td>-0.670357</td>\n",
       "      <td>-1.515852</td>\n",
       "    </tr>\n",
       "    <tr>\n",
       "      <th>1760</th>\n",
       "      <td>-0.448331</td>\n",
       "      <td>-1.282710</td>\n",
       "      <td>0.479976</td>\n",
       "    </tr>\n",
       "  </tbody>\n",
       "</table>\n",
       "<p>1761 rows × 3 columns</p>\n",
       "</div>"
      ],
      "text/plain": [
       "      SeniorCitizen    tenure  MonthlyCharges\n",
       "0         -0.448331  1.615759        0.649905\n",
       "1         -0.448331  1.534112       -1.327597\n",
       "2          2.230496  0.717642       -1.332595\n",
       "3         -0.448331 -1.037769       -1.505856\n",
       "4         -0.448331  1.574936       -0.038139\n",
       "...             ...       ...             ...\n",
       "1756       2.230496 -1.282710        0.306716\n",
       "1757      -0.448331  1.574936        0.721541\n",
       "1758       2.230496 -0.956122        0.639909\n",
       "1759      -0.448331 -0.670357       -1.515852\n",
       "1760      -0.448331 -1.282710        0.479976\n",
       "\n",
       "[1761 rows x 3 columns]"
      ]
     },
     "metadata": {},
     "output_type": "display_data"
    }
   ],
   "source": [
    "# Looking at X_train and X_test after scaling\n",
    "display(X_train_scaled)\n",
    "display(X_test_scaled)"
   ]
  },
  {
   "cell_type": "code",
   "execution_count": 25,
   "id": "e996d5ba",
   "metadata": {},
   "outputs": [
    {
     "data": {
      "text/plain": [
       "2639    Yes\n",
       "5503     No\n",
       "5613     No\n",
       "4259    Yes\n",
       "3839     No\n",
       "Name: Churn, dtype: object"
      ]
     },
     "execution_count": 25,
     "metadata": {},
     "output_type": "execute_result"
    }
   ],
   "source": [
    "#Looking at index numbers from y_train\n",
    "y_train.head()"
   ]
  },
  {
   "cell_type": "markdown",
   "id": "760468e1",
   "metadata": {},
   "source": [
    "##### Reset index of y_train and y_test (helpful for future concats with the X)"
   ]
  },
  {
   "cell_type": "code",
   "execution_count": 26,
   "id": "a06091b7",
   "metadata": {},
   "outputs": [],
   "source": [
    "y_train = y_train.reset_index(drop=True) \n",
    "# needed because the transformation also reset the index for X_train_scaled\n",
    "# so we need this for y_test as well...\n",
    "y_test = y_test.reset_index(drop=True) \n"
   ]
  },
  {
   "cell_type": "code",
   "execution_count": 27,
   "id": "7b01a1cb",
   "metadata": {},
   "outputs": [
    {
     "data": {
      "text/plain": [
       "0    Yes\n",
       "1     No\n",
       "2     No\n",
       "3    Yes\n",
       "4     No\n",
       "Name: Churn, dtype: object"
      ]
     },
     "metadata": {},
     "output_type": "display_data"
    },
    {
     "data": {
      "text/plain": [
       "0     No\n",
       "1     No\n",
       "2     No\n",
       "3    Yes\n",
       "4     No\n",
       "Name: Churn, dtype: object"
      ]
     },
     "metadata": {},
     "output_type": "display_data"
    }
   ],
   "source": [
    "#checking index reset\n",
    "display(y_train.head())\n",
    "display(y_test.head())"
   ]
  },
  {
   "cell_type": "markdown",
   "id": "13db2b16",
   "metadata": {},
   "source": [
    "### Build the logistic regression model and evaluate it"
   ]
  },
  {
   "cell_type": "code",
   "execution_count": 28,
   "id": "b104dadd",
   "metadata": {},
   "outputs": [
    {
     "data": {
      "text/plain": [
       "0.7862552063612268"
      ]
     },
     "metadata": {},
     "output_type": "display_data"
    },
    {
     "data": {
      "text/plain": [
       "0.7978421351504826"
      ]
     },
     "metadata": {},
     "output_type": "display_data"
    }
   ],
   "source": [
    "#Performing Logistic regression Model\n",
    "LR = LogisticRegression(solver='lbfgs')\n",
    "LR.fit(X_train_scaled, y_train)\n",
    "display(LR.score(X_train_scaled, y_train))\n",
    "display(LR.score(X_test_scaled, y_test))"
   ]
  },
  {
   "cell_type": "code",
   "execution_count": 31,
   "id": "7cd152b6",
   "metadata": {},
   "outputs": [
    {
     "data": {
      "text/plain": [
       "array(['No', 'No', 'No', ..., 'Yes', 'No', 'Yes'], dtype=object)"
      ]
     },
     "execution_count": 31,
     "metadata": {},
     "output_type": "execute_result"
    }
   ],
   "source": [
    "#Make predictions of target for test data\n",
    "pred = LR.predict(X_test_scaled) #set of predictions\n",
    "pred"
   ]
  },
  {
   "cell_type": "code",
   "execution_count": 37,
   "id": "35c85b0e",
   "metadata": {},
   "outputs": [
    {
     "name": "stdout",
     "output_type": "stream",
     "text": [
      "precision:  0.6366366366366366\n",
      "recall:  0.4742729306487696\n",
      "f1:  0.5435897435897437\n"
     ]
    }
   ],
   "source": [
    "print(\"precision: \",precision_score(y_test,pred, average='binary', pos_label = 'Yes', labels=['Yes', 'No']))\n",
    "print(\"recall: \",recall_score(y_test,pred, average='binary', pos_label = 'Yes', labels=['Yes', 'No']))\n",
    "print(\"f1: \",f1_score(y_test,pred, average='binary', pos_label = 'Yes', labels=['Yes', 'No']))"
   ]
  },
  {
   "cell_type": "code",
   "execution_count": 38,
   "id": "430165a0",
   "metadata": {},
   "outputs": [
    {
     "data": {
      "text/plain": [
       "array([[1193,  121],\n",
       "       [ 235,  212]], dtype=int64)"
      ]
     },
     "execution_count": 38,
     "metadata": {},
     "output_type": "execute_result"
    }
   ],
   "source": [
    "from sklearn.metrics import confusion_matrix\n",
    "confusion_matrix(y_test,pred)"
   ]
  },
  {
   "cell_type": "markdown",
   "id": "f659d1b1",
   "metadata": {},
   "source": [
    "###### The model has an accuracy of 79.78% with the test data. This means that for 79.78% of the test data, the correct value for the target Churn was predicted. The precision value is 63.66%, so for approx. 36% of customers, they were predicted as churn although they are still customers. The recall value is 47.42%, meaning that more than half of the customers which had an actual value \"Yes\" in the Churn column were predicted as \"No\" so they were not recognized as churn customers."
   ]
  },
  {
   "cell_type": "markdown",
   "id": "caf514c8",
   "metadata": {},
   "source": [
    "### Even a simple model will give us more than 70% accuracy. Why?"
   ]
  },
  {
   "cell_type": "markdown",
   "id": "f06db64b",
   "metadata": {},
   "source": [
    "##### The accuracy of this model is high, because we have a huge imbalance in our data of the target:"
   ]
  },
  {
   "cell_type": "code",
   "execution_count": 44,
   "id": "eee6413f",
   "metadata": {},
   "outputs": [
    {
     "data": {
      "text/plain": [
       "No     5174\n",
       "Yes    1869\n",
       "Name: Churn, dtype: int64"
      ]
     },
     "execution_count": 44,
     "metadata": {},
     "output_type": "execute_result"
    }
   ],
   "source": [
    "data['Churn'].value_counts()"
   ]
  },
  {
   "cell_type": "markdown",
   "id": "736e7fdc",
   "metadata": {},
   "source": [
    "##### The number of \"No\" values (still a customer) compared to a \"Yes\" value (churn, not a customer anymore) is approx. 2.7x higher. This is a significant imbalance in the dataset and has the consequence that by blindly guessing a \"No\" the chances that this is a correct prediction is quite high. Consequently, the probability for missing a churn customer is quite high. By balancing the data with e.g. SMOTE the value for precision and recall can be improved:"
   ]
  },
  {
   "cell_type": "markdown",
   "id": "cf4218dc",
   "metadata": {},
   "source": [
    "### Apply imblearn.over_sampling.SMOTE to the dataset."
   ]
  },
  {
   "cell_type": "code",
   "execution_count": 45,
   "id": "d520999d",
   "metadata": {},
   "outputs": [],
   "source": [
    "sm = SMOTE(k_neighbors=5)\n",
    "X_train_SMOTE,y_train_SMOTE = sm.fit_resample(X_train_scaled,y_train)"
   ]
  },
  {
   "cell_type": "markdown",
   "id": "12d69941",
   "metadata": {},
   "source": [
    "### Build the model after applying SMOTE"
   ]
  },
  {
   "cell_type": "code",
   "execution_count": 49,
   "id": "20b2f7eb",
   "metadata": {},
   "outputs": [
    {
     "name": "stdout",
     "output_type": "stream",
     "text": [
      "0.7307837940174177\n",
      "0.7336740488358887\n",
      "precision:  0.48338368580060426\n",
      "recall:  0.7158836689038032\n",
      "f1:  0.5770964833183048\n"
     ]
    }
   ],
   "source": [
    "LR = LogisticRegression(solver='lbfgs')\n",
    "LR.fit(X_train_SMOTE, y_train_SMOTE)\n",
    "pred = LR.predict(X_test_scaled)\n",
    "\n",
    "print(LR.score(X_train_scaled, y_train))\n",
    "print(LR.score(X_test_scaled, y_test))\n",
    "print(\"precision: \",precision_score(y_test,pred, average='binary', pos_label = 'Yes'))\n",
    "print(\"recall: \",recall_score(y_test,pred, average='binary', pos_label = 'Yes'))\n",
    "print(\"f1: \",f1_score(y_test,pred, average='binary', pos_label = 'Yes'))"
   ]
  },
  {
   "cell_type": "markdown",
   "id": "6cac34fc",
   "metadata": {},
   "source": [
    "### Evaluate the logistic regression model. Is it there any improvement?"
   ]
  },
  {
   "cell_type": "markdown",
   "id": "83d69513",
   "metadata": {},
   "source": [
    "##### The accuracy value changed from approx. 79% to 73%, so got little worse. The precision value changed from approx. 64% to 48%. This means that now more than half of the customers who are not churn (actual value No, predicted value Yes) were predicted to be churn. On the other hand, the recall value improved a lot from previously 47.42% to now 71.58%. This means, that for 30% of the customers it is missed that they are churn customers (actual value is a Yes but was predicted as No). "
   ]
  },
  {
   "cell_type": "markdown",
   "id": "4be8bd5b",
   "metadata": {},
   "source": [
    "##### In conclusion, recall got way better, so churn can be predicted in many more cases (which would be good for a company), but falsely predicting churn also grew tremendously to nearly 50% (lower precision value than before, not so good when a company sees approx., 50% of the customers falsely as churn). All in all, I would not say that this is a good model, it should be tried to get a better precision value. "
   ]
  },
  {
   "cell_type": "markdown",
   "id": "5b8f5574",
   "metadata": {},
   "source": [
    "### Approach for better balancing of precision and recall values: Using Oversampling instead of SMOTE"
   ]
  },
  {
   "cell_type": "code",
   "execution_count": 50,
   "id": "4ab6f395",
   "metadata": {},
   "outputs": [
    {
     "data": {
      "text/html": [
       "<div>\n",
       "<style scoped>\n",
       "    .dataframe tbody tr th:only-of-type {\n",
       "        vertical-align: middle;\n",
       "    }\n",
       "\n",
       "    .dataframe tbody tr th {\n",
       "        vertical-align: top;\n",
       "    }\n",
       "\n",
       "    .dataframe thead th {\n",
       "        text-align: right;\n",
       "    }\n",
       "</style>\n",
       "<table border=\"1\" class=\"dataframe\">\n",
       "  <thead>\n",
       "    <tr style=\"text-align: right;\">\n",
       "      <th></th>\n",
       "      <th>SeniorCitizen</th>\n",
       "      <th>tenure</th>\n",
       "      <th>MonthlyCharges</th>\n",
       "      <th>Churn</th>\n",
       "    </tr>\n",
       "  </thead>\n",
       "  <tbody>\n",
       "    <tr>\n",
       "      <th>0</th>\n",
       "      <td>-0.448331</td>\n",
       "      <td>-0.425416</td>\n",
       "      <td>-0.358005</td>\n",
       "      <td>Yes</td>\n",
       "    </tr>\n",
       "    <tr>\n",
       "      <th>1</th>\n",
       "      <td>-0.448331</td>\n",
       "      <td>0.105289</td>\n",
       "      <td>-1.504190</td>\n",
       "      <td>No</td>\n",
       "    </tr>\n",
       "    <tr>\n",
       "      <th>2</th>\n",
       "      <td>-0.448331</td>\n",
       "      <td>1.615759</td>\n",
       "      <td>0.175104</td>\n",
       "      <td>No</td>\n",
       "    </tr>\n",
       "    <tr>\n",
       "      <th>3</th>\n",
       "      <td>-0.448331</td>\n",
       "      <td>-1.201063</td>\n",
       "      <td>-1.519184</td>\n",
       "      <td>Yes</td>\n",
       "    </tr>\n",
       "    <tr>\n",
       "      <th>4</th>\n",
       "      <td>-0.448331</td>\n",
       "      <td>-0.711181</td>\n",
       "      <td>-1.504190</td>\n",
       "      <td>No</td>\n",
       "    </tr>\n",
       "  </tbody>\n",
       "</table>\n",
       "</div>"
      ],
      "text/plain": [
       "   SeniorCitizen    tenure  MonthlyCharges Churn\n",
       "0      -0.448331 -0.425416       -0.358005   Yes\n",
       "1      -0.448331  0.105289       -1.504190    No\n",
       "2      -0.448331  1.615759        0.175104    No\n",
       "3      -0.448331 -1.201063       -1.519184   Yes\n",
       "4      -0.448331 -0.711181       -1.504190    No"
      ]
     },
     "execution_count": 50,
     "metadata": {},
     "output_type": "execute_result"
    }
   ],
   "source": [
    "# oversampling / undersampling is only to be done on the TRAINING set\n",
    "train = pd.concat([X_train_scaled, y_train],axis=1)\n",
    "train.head()"
   ]
  },
  {
   "cell_type": "code",
   "execution_count": 51,
   "id": "c3f5b99f",
   "metadata": {},
   "outputs": [],
   "source": [
    "# separate majority/minority classes\n",
    "no_churn = train[train['Churn']=='No']\n",
    "yes_churn = train[train['Churn']=='Yes']"
   ]
  },
  {
   "cell_type": "code",
   "execution_count": 52,
   "id": "ae93ad2c",
   "metadata": {},
   "outputs": [
    {
     "data": {
      "text/plain": [
       "(3860, 4)"
      ]
     },
     "metadata": {},
     "output_type": "display_data"
    },
    {
     "data": {
      "text/plain": [
       "(1422, 4)"
      ]
     },
     "metadata": {},
     "output_type": "display_data"
    }
   ],
   "source": [
    "display(no_churn.shape)\n",
    "display(yes_churn.shape)"
   ]
  },
  {
   "cell_type": "code",
   "execution_count": 53,
   "id": "4aae392a",
   "metadata": {},
   "outputs": [],
   "source": [
    "# oversample minority\n",
    "yes_churn_oversampled = resample(yes_churn, #<- sample from here\n",
    "                                    replace=True,            #<- we need replacement, since we don't have enough data otherwise\n",
    "                                    n_samples = len(no_churn))  #<- make both sets the same size"
   ]
  },
  {
   "cell_type": "code",
   "execution_count": 54,
   "id": "359090ae",
   "metadata": {},
   "outputs": [
    {
     "data": {
      "text/plain": [
       "(3860, 4)"
      ]
     },
     "metadata": {},
     "output_type": "display_data"
    },
    {
     "data": {
      "text/plain": [
       "(3860, 4)"
      ]
     },
     "metadata": {},
     "output_type": "display_data"
    },
    {
     "data": {
      "text/html": [
       "<div>\n",
       "<style scoped>\n",
       "    .dataframe tbody tr th:only-of-type {\n",
       "        vertical-align: middle;\n",
       "    }\n",
       "\n",
       "    .dataframe tbody tr th {\n",
       "        vertical-align: top;\n",
       "    }\n",
       "\n",
       "    .dataframe thead th {\n",
       "        text-align: right;\n",
       "    }\n",
       "</style>\n",
       "<table border=\"1\" class=\"dataframe\">\n",
       "  <thead>\n",
       "    <tr style=\"text-align: right;\">\n",
       "      <th></th>\n",
       "      <th>SeniorCitizen</th>\n",
       "      <th>tenure</th>\n",
       "      <th>MonthlyCharges</th>\n",
       "      <th>Churn</th>\n",
       "    </tr>\n",
       "  </thead>\n",
       "  <tbody>\n",
       "    <tr>\n",
       "      <th>2257</th>\n",
       "      <td>2.230496</td>\n",
       "      <td>0.431877</td>\n",
       "      <td>-0.321354</td>\n",
       "      <td>Yes</td>\n",
       "    </tr>\n",
       "    <tr>\n",
       "      <th>2511</th>\n",
       "      <td>-0.448331</td>\n",
       "      <td>-1.282710</td>\n",
       "      <td>-0.991072</td>\n",
       "      <td>Yes</td>\n",
       "    </tr>\n",
       "    <tr>\n",
       "      <th>3195</th>\n",
       "      <td>2.230496</td>\n",
       "      <td>-1.282710</td>\n",
       "      <td>0.148449</td>\n",
       "      <td>Yes</td>\n",
       "    </tr>\n",
       "    <tr>\n",
       "      <th>4222</th>\n",
       "      <td>-0.448331</td>\n",
       "      <td>1.207524</td>\n",
       "      <td>1.164689</td>\n",
       "      <td>Yes</td>\n",
       "    </tr>\n",
       "    <tr>\n",
       "      <th>974</th>\n",
       "      <td>2.230496</td>\n",
       "      <td>0.391054</td>\n",
       "      <td>0.298386</td>\n",
       "      <td>Yes</td>\n",
       "    </tr>\n",
       "    <tr>\n",
       "      <th>1857</th>\n",
       "      <td>-0.448331</td>\n",
       "      <td>1.534112</td>\n",
       "      <td>1.681138</td>\n",
       "      <td>Yes</td>\n",
       "    </tr>\n",
       "    <tr>\n",
       "      <th>2220</th>\n",
       "      <td>-0.448331</td>\n",
       "      <td>0.023642</td>\n",
       "      <td>1.306296</td>\n",
       "      <td>Yes</td>\n",
       "    </tr>\n",
       "    <tr>\n",
       "      <th>586</th>\n",
       "      <td>2.230496</td>\n",
       "      <td>-0.302946</td>\n",
       "      <td>0.791512</td>\n",
       "      <td>Yes</td>\n",
       "    </tr>\n",
       "    <tr>\n",
       "      <th>4603</th>\n",
       "      <td>-0.448331</td>\n",
       "      <td>-0.180475</td>\n",
       "      <td>0.976434</td>\n",
       "      <td>Yes</td>\n",
       "    </tr>\n",
       "    <tr>\n",
       "      <th>4775</th>\n",
       "      <td>2.230496</td>\n",
       "      <td>-1.119416</td>\n",
       "      <td>0.598260</td>\n",
       "      <td>Yes</td>\n",
       "    </tr>\n",
       "    <tr>\n",
       "      <th>4265</th>\n",
       "      <td>2.230496</td>\n",
       "      <td>-0.752004</td>\n",
       "      <td>0.325041</td>\n",
       "      <td>Yes</td>\n",
       "    </tr>\n",
       "    <tr>\n",
       "      <th>1084</th>\n",
       "      <td>-0.448331</td>\n",
       "      <td>-0.670357</td>\n",
       "      <td>0.288390</td>\n",
       "      <td>Yes</td>\n",
       "    </tr>\n",
       "    <tr>\n",
       "      <th>893</th>\n",
       "      <td>2.230496</td>\n",
       "      <td>-1.119416</td>\n",
       "      <td>0.128457</td>\n",
       "      <td>Yes</td>\n",
       "    </tr>\n",
       "    <tr>\n",
       "      <th>3058</th>\n",
       "      <td>-0.448331</td>\n",
       "      <td>-0.670357</td>\n",
       "      <td>0.000178</td>\n",
       "      <td>Yes</td>\n",
       "    </tr>\n",
       "    <tr>\n",
       "      <th>855</th>\n",
       "      <td>2.230496</td>\n",
       "      <td>-1.119416</td>\n",
       "      <td>0.305050</td>\n",
       "      <td>Yes</td>\n",
       "    </tr>\n",
       "    <tr>\n",
       "      <th>965</th>\n",
       "      <td>-0.448331</td>\n",
       "      <td>1.166701</td>\n",
       "      <td>1.379598</td>\n",
       "      <td>Yes</td>\n",
       "    </tr>\n",
       "    <tr>\n",
       "      <th>2340</th>\n",
       "      <td>-0.448331</td>\n",
       "      <td>-1.241886</td>\n",
       "      <td>0.699884</td>\n",
       "      <td>Yes</td>\n",
       "    </tr>\n",
       "    <tr>\n",
       "      <th>2832</th>\n",
       "      <td>-0.448331</td>\n",
       "      <td>-1.282710</td>\n",
       "      <td>0.678226</td>\n",
       "      <td>Yes</td>\n",
       "    </tr>\n",
       "    <tr>\n",
       "      <th>979</th>\n",
       "      <td>-0.448331</td>\n",
       "      <td>-1.241886</td>\n",
       "      <td>0.484974</td>\n",
       "      <td>Yes</td>\n",
       "    </tr>\n",
       "    <tr>\n",
       "      <th>4530</th>\n",
       "      <td>2.230496</td>\n",
       "      <td>-0.670357</td>\n",
       "      <td>1.039741</td>\n",
       "      <td>Yes</td>\n",
       "    </tr>\n",
       "  </tbody>\n",
       "</table>\n",
       "</div>"
      ],
      "text/plain": [
       "      SeniorCitizen    tenure  MonthlyCharges Churn\n",
       "2257       2.230496  0.431877       -0.321354   Yes\n",
       "2511      -0.448331 -1.282710       -0.991072   Yes\n",
       "3195       2.230496 -1.282710        0.148449   Yes\n",
       "4222      -0.448331  1.207524        1.164689   Yes\n",
       "974        2.230496  0.391054        0.298386   Yes\n",
       "1857      -0.448331  1.534112        1.681138   Yes\n",
       "2220      -0.448331  0.023642        1.306296   Yes\n",
       "586        2.230496 -0.302946        0.791512   Yes\n",
       "4603      -0.448331 -0.180475        0.976434   Yes\n",
       "4775       2.230496 -1.119416        0.598260   Yes\n",
       "4265       2.230496 -0.752004        0.325041   Yes\n",
       "1084      -0.448331 -0.670357        0.288390   Yes\n",
       "893        2.230496 -1.119416        0.128457   Yes\n",
       "3058      -0.448331 -0.670357        0.000178   Yes\n",
       "855        2.230496 -1.119416        0.305050   Yes\n",
       "965       -0.448331  1.166701        1.379598   Yes\n",
       "2340      -0.448331 -1.241886        0.699884   Yes\n",
       "2832      -0.448331 -1.282710        0.678226   Yes\n",
       "979       -0.448331 -1.241886        0.484974   Yes\n",
       "4530       2.230496 -0.670357        1.039741   Yes"
      ]
     },
     "execution_count": 54,
     "metadata": {},
     "output_type": "execute_result"
    }
   ],
   "source": [
    "# both sets are now of a reasonable size\n",
    "display(no_churn.shape)\n",
    "display(yes_churn_oversampled.shape)\n",
    "yes_churn_oversampled.head(20)"
   ]
  },
  {
   "cell_type": "code",
   "execution_count": 56,
   "id": "eb3a4fea",
   "metadata": {},
   "outputs": [
    {
     "data": {
      "text/html": [
       "<div>\n",
       "<style scoped>\n",
       "    .dataframe tbody tr th:only-of-type {\n",
       "        vertical-align: middle;\n",
       "    }\n",
       "\n",
       "    .dataframe tbody tr th {\n",
       "        vertical-align: top;\n",
       "    }\n",
       "\n",
       "    .dataframe thead th {\n",
       "        text-align: right;\n",
       "    }\n",
       "</style>\n",
       "<table border=\"1\" class=\"dataframe\">\n",
       "  <thead>\n",
       "    <tr style=\"text-align: right;\">\n",
       "      <th></th>\n",
       "      <th>SeniorCitizen</th>\n",
       "      <th>tenure</th>\n",
       "      <th>MonthlyCharges</th>\n",
       "      <th>Churn</th>\n",
       "    </tr>\n",
       "  </thead>\n",
       "  <tbody>\n",
       "    <tr>\n",
       "      <th>1</th>\n",
       "      <td>-0.448331</td>\n",
       "      <td>0.105289</td>\n",
       "      <td>-1.504190</td>\n",
       "      <td>No</td>\n",
       "    </tr>\n",
       "    <tr>\n",
       "      <th>2</th>\n",
       "      <td>-0.448331</td>\n",
       "      <td>1.615759</td>\n",
       "      <td>0.175104</td>\n",
       "      <td>No</td>\n",
       "    </tr>\n",
       "    <tr>\n",
       "      <th>4</th>\n",
       "      <td>-0.448331</td>\n",
       "      <td>-0.711181</td>\n",
       "      <td>-1.504190</td>\n",
       "      <td>No</td>\n",
       "    </tr>\n",
       "    <tr>\n",
       "      <th>5</th>\n",
       "      <td>-0.448331</td>\n",
       "      <td>-1.241886</td>\n",
       "      <td>-1.530845</td>\n",
       "      <td>No</td>\n",
       "    </tr>\n",
       "    <tr>\n",
       "      <th>6</th>\n",
       "      <td>2.230496</td>\n",
       "      <td>1.574936</td>\n",
       "      <td>1.482888</td>\n",
       "      <td>No</td>\n",
       "    </tr>\n",
       "    <tr>\n",
       "      <th>...</th>\n",
       "      <td>...</td>\n",
       "      <td>...</td>\n",
       "      <td>...</td>\n",
       "      <td>...</td>\n",
       "    </tr>\n",
       "    <tr>\n",
       "      <th>4370</th>\n",
       "      <td>-0.448331</td>\n",
       "      <td>-1.119416</td>\n",
       "      <td>0.451655</td>\n",
       "      <td>Yes</td>\n",
       "    </tr>\n",
       "    <tr>\n",
       "      <th>3714</th>\n",
       "      <td>-0.448331</td>\n",
       "      <td>-1.119416</td>\n",
       "      <td>0.345033</td>\n",
       "      <td>Yes</td>\n",
       "    </tr>\n",
       "    <tr>\n",
       "      <th>3576</th>\n",
       "      <td>-0.448331</td>\n",
       "      <td>-0.670357</td>\n",
       "      <td>0.526623</td>\n",
       "      <td>Yes</td>\n",
       "    </tr>\n",
       "    <tr>\n",
       "      <th>33</th>\n",
       "      <td>-0.448331</td>\n",
       "      <td>-1.037769</td>\n",
       "      <td>0.330039</td>\n",
       "      <td>Yes</td>\n",
       "    </tr>\n",
       "    <tr>\n",
       "      <th>0</th>\n",
       "      <td>-0.448331</td>\n",
       "      <td>-0.425416</td>\n",
       "      <td>-0.358005</td>\n",
       "      <td>Yes</td>\n",
       "    </tr>\n",
       "  </tbody>\n",
       "</table>\n",
       "<p>7720 rows × 4 columns</p>\n",
       "</div>"
      ],
      "text/plain": [
       "      SeniorCitizen    tenure  MonthlyCharges Churn\n",
       "1         -0.448331  0.105289       -1.504190    No\n",
       "2         -0.448331  1.615759        0.175104    No\n",
       "4         -0.448331 -0.711181       -1.504190    No\n",
       "5         -0.448331 -1.241886       -1.530845    No\n",
       "6          2.230496  1.574936        1.482888    No\n",
       "...             ...       ...             ...   ...\n",
       "4370      -0.448331 -1.119416        0.451655   Yes\n",
       "3714      -0.448331 -1.119416        0.345033   Yes\n",
       "3576      -0.448331 -0.670357        0.526623   Yes\n",
       "33        -0.448331 -1.037769        0.330039   Yes\n",
       "0         -0.448331 -0.425416       -0.358005   Yes\n",
       "\n",
       "[7720 rows x 4 columns]"
      ]
     },
     "execution_count": 56,
     "metadata": {},
     "output_type": "execute_result"
    }
   ],
   "source": [
    "#Concat No and Yes data\n",
    "train_oversampled = pd.concat([no_churn,yes_churn_oversampled],axis=0)\n",
    "train_oversampled"
   ]
  },
  {
   "cell_type": "markdown",
   "id": "47c89071",
   "metadata": {},
   "source": [
    "#### Building new model, test and evaluate it"
   ]
  },
  {
   "cell_type": "code",
   "execution_count": 58,
   "id": "12e31ba8",
   "metadata": {},
   "outputs": [],
   "source": [
    "# Perform X/y split from oversampled training data\n",
    "y_train_over = train_oversampled['Churn'].copy()\n",
    "X_train_over = train_oversampled.drop('Churn',axis = 1).copy()"
   ]
  },
  {
   "cell_type": "code",
   "execution_count": 59,
   "id": "20cd5fc2",
   "metadata": {},
   "outputs": [
    {
     "data": {
      "text/plain": [
       "0.7354922279792746"
      ]
     },
     "metadata": {},
     "output_type": "display_data"
    },
    {
     "data": {
      "text/plain": [
       "0.7354922279792746"
      ]
     },
     "metadata": {},
     "output_type": "display_data"
    },
    {
     "name": "stdout",
     "output_type": "stream",
     "text": [
      "precision:  0.4827586206896552\n",
      "recall:  0.7203579418344519\n",
      "f1:  0.578096947935368\n"
     ]
    }
   ],
   "source": [
    "#Make Model and calculate score\n",
    "LR_over = LogisticRegression(solver='lbfgs')\n",
    "LR_over.fit(X_train_over, y_train_over)\n",
    "display(LR_over.score(X_train_over, y_train_over))\n",
    "display(LR_over.score(X_train_over, y_train_over))\n",
    "\n",
    "#Make predictions\n",
    "pred = LR_over.predict(X_test_scaled)\n",
    "\n",
    "#Calculate precision, recall and f1\n",
    "print(\"precision: \",precision_score(y_test,pred, average='binary', pos_label = 'Yes'))\n",
    "print(\"recall: \",recall_score(y_test,pred, average='binary', pos_label = 'Yes'))\n",
    "print(\"f1: \",f1_score(y_test,pred, average='binary', pos_label = 'Yes'))"
   ]
  },
  {
   "cell_type": "markdown",
   "id": "c24e70c4",
   "metadata": {},
   "source": [
    "### Is there any improvement?"
   ]
  },
  {
   "cell_type": "markdown",
   "id": "cd3134e7",
   "metadata": {},
   "source": [
    "##### All values (Score, precision, recall and f1) are nearly the same as with the SMOTE data balancing approach."
   ]
  },
  {
   "cell_type": "code",
   "execution_count": null,
   "id": "4fed7500",
   "metadata": {},
   "outputs": [],
   "source": []
  }
 ],
 "metadata": {
  "kernelspec": {
   "display_name": "Python 3 (ipykernel)",
   "language": "python",
   "name": "python3"
  },
  "language_info": {
   "codemirror_mode": {
    "name": "ipython",
    "version": 3
   },
   "file_extension": ".py",
   "mimetype": "text/x-python",
   "name": "python",
   "nbconvert_exporter": "python",
   "pygments_lexer": "ipython3",
   "version": "3.9.13"
  }
 },
 "nbformat": 4,
 "nbformat_minor": 5
}
